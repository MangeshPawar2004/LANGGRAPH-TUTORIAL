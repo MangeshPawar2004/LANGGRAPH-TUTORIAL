{
 "cells": [
  {
   "cell_type": "code",
   "execution_count": 21,
   "id": "b7124e64",
   "metadata": {},
   "outputs": [],
   "source": [
    "from langgraph.graph import StateGraph, START,END\n",
    "from typing import TypedDict"
   ]
  },
  {
   "cell_type": "code",
   "execution_count": 22,
   "id": "8abe6f7a",
   "metadata": {},
   "outputs": [],
   "source": [
    "class QuadState(TypedDict):\n",
    "    a: int\n",
    "    b: int\n",
    "    c: int\n",
    "\n",
    "    equation:str\n",
    "    discriminant:float\n",
    "    result:str"
   ]
  },
  {
   "cell_type": "code",
   "execution_count": 23,
   "id": "0c42bfa8",
   "metadata": {},
   "outputs": [],
   "source": [
    "def show_equation(state:QuadState):\n",
    "    equation=f'{state[\"a\"]}x^2 + {state[\"b\"]}x + {state[\"c\"]} = 0'\n",
    "    return {'equation':equation}"
   ]
  },
  {
   "cell_type": "code",
   "execution_count": 24,
   "id": "74d655f2",
   "metadata": {},
   "outputs": [],
   "source": [
    "def calculate_discriminant(state:QuadState):\n",
    "    discriminant=state['b']**2-4*state['a']*state['c']\n",
    "    return {'discriminant':discriminant}"
   ]
  },
  {
   "cell_type": "code",
   "execution_count": 25,
   "id": "e36729be",
   "metadata": {},
   "outputs": [],
   "source": [
    "def real_root(state:QuadState):\n",
    "    root1=(-state['b']+state['discriminant']**0.5)/(2*state['a'])\n",
    "    root2=(-state['b']-state['discriminant']**0.5)/(2*state['a'])\n",
    "\n",
    "    result=f'Roots are {root1} and {root2}'\n",
    "    return {'result':result}"
   ]
  },
  {
   "cell_type": "code",
   "execution_count": 26,
   "id": "3cdacef3",
   "metadata": {},
   "outputs": [],
   "source": [
    "def repeated_root(state:QuadState):\n",
    "    root=-state['b']/(2*state['a'])\n",
    "    result = f'Only repeating root is {root}'\n",
    "    return {'result':result}"
   ]
  },
  {
   "cell_type": "code",
   "execution_count": 27,
   "id": "dc2141aa",
   "metadata": {},
   "outputs": [],
   "source": [
    "def no_root(state:QuadState):\n",
    "    result = f'There are no real roots'\n",
    "    return {'result':result}"
   ]
  },
  {
   "cell_type": "code",
   "execution_count": 28,
   "id": "e23b07a0",
   "metadata": {},
   "outputs": [],
   "source": [
    "def check_condition(state:QuadState):\n",
    "    if state['discriminant']>0:\n",
    "        return 'real_root'\n",
    "    elif state['discriminant']==0:\n",
    "        return 'repeated_root'\n",
    "    else:\n",
    "        return 'no_root'"
   ]
  },
  {
   "cell_type": "code",
   "execution_count": 29,
   "id": "becb2f93",
   "metadata": {},
   "outputs": [],
   "source": [
    "graph=StateGraph(QuadState)\n",
    "\n",
    "graph.add_node('show_equation',show_equation)\n",
    "graph.add_node('calculate_discriminant',calculate_discriminant)\n",
    "graph.add_node('real_root',real_root)\n",
    "graph.add_node('repeated_root',repeated_root)\n",
    "graph.add_node('no_root',no_root)\n",
    "\n",
    "graph.add_edge(START,'show_equation')\n",
    "graph.add_edge('show_equation','calculate_discriminant')\n",
    "graph.add_conditional_edges('calculate_discriminant',check_condition,\n",
    "    {\n",
    "        'real_root': 'real_root',\n",
    "        'repeated_root': 'repeated_root',\n",
    "        'no_root': 'no_root'\n",
    "    })\n",
    "graph.add_edge('real_root',END)\n",
    "graph.add_edge('repeated_root',END)\n",
    "graph.add_edge('no_root',END)\n",
    "\n",
    "workflow=graph.compile()\n",
    "\n"
   ]
  },
  {
   "cell_type": "code",
   "execution_count": 30,
   "id": "f1a2f018",
   "metadata": {},
   "outputs": [
    {
     "data": {
      "image/png": "[encoded data removed]",
      "text/plain": [
       "<langgraph.graph.state.CompiledStateGraph object at 0x000002392E7F42C0>"
      ]
     },
     "execution_count": 30,
     "metadata": {},
     "output_type": "execute_result"
    }
   ],
   "source": [
    "workflow"
   ]
  },
  {
   "cell_type": "code",
   "execution_count": 31,
   "id": "1e9805ac",
   "metadata": {},
   "outputs": [
    {
     "name": "stdout",
     "output_type": "stream",
     "text": [
      "{'a': 1, 'b': -30, 'c': -20, 'equation': '1x^2 + -30x + -20 = 0', 'discriminant': 980, 'result': 'Roots are 30.65247584249853 and -0.6524758424985286'}\n"
     ]
    }
   ],
   "source": [
    "initial_state = {\n",
    "    \"a\": 1,\n",
    "    \"b\": -30,\n",
    "    \"c\": -20\n",
    "}\n",
    "\n",
    "# Run workflow\n",
    "result = workflow.invoke(initial_state)\n",
    "print(result)"
   ]
  }
 ],
 "metadata": {
  "kernelspec": {
   "display_name": "langgraph-tutorial",
   "language": "python",
   "name": "python3"
  },
  "language_info": {
   "codemirror_mode": {
    "name": "ipython",
    "version": 3
   },
   "file_extension": ".py",
   "mimetype": "text/x-python",
   "name": "python",
   "nbconvert_exporter": "python",
   "pygments_lexer": "ipython3",
   "version": "3.12.11"
  }
 },
 "nbformat": 4,
 "nbformat_minor": 5
}
