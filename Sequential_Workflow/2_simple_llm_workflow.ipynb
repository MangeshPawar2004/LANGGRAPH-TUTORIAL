{
 "cells": [
  {
   "cell_type": "code",
   "execution_count": 1,
   "id": "5573d910",
   "metadata": {},
   "outputs": [],
   "source": [
    "from langgraph.graph import StateGraph,START,END\n",
    "from langchain_google_genai import ChatGoogleGenerativeAI\n",
    "from typing import TypedDict\n",
    "from dotenv import load_dotenv"
   ]
  },
  {
   "cell_type": "code",
   "execution_count": 2,
   "id": "034b1cdf",
   "metadata": {},
   "outputs": [
    {
     "data": {
      "text/plain": [
       "True"
      ]
     },
     "execution_count": 2,
     "metadata": {},
     "output_type": "execute_result"
    }
   ],
   "source": [
    "load_dotenv()"
   ]
  },
  {
   "cell_type": "code",
   "execution_count": 33,
   "id": "c909aad8",
   "metadata": {},
   "outputs": [],
   "source": [
    "model=ChatGoogleGenerativeAI(model='gemini-2.5-flash',temperature=0.5,max_output_tokens=5000)"
   ]
  },
  {
   "cell_type": "code",
   "execution_count": 34,
   "id": "08f7fb9b",
   "metadata": {},
   "outputs": [],
   "source": [
    "class LMMState(TypedDict):\n",
    "    question: str\n",
    "    answer: str\n",
    "    "
   ]
  },
  {
   "cell_type": "code",
   "execution_count": 35,
   "id": "db99345d",
   "metadata": {},
   "outputs": [],
   "source": [
    "def llm_qa(state:LMMState)->LMMState:\n",
    "    \n",
    "    # extract question from state\n",
    "    question=state['question']\n",
    "\n",
    "    # form a prompt\n",
    "    prompt=f'Answer the question: {question}'\n",
    "\n",
    "    # call llm\n",
    "    answer=model.invoke(prompt).content\n",
    "\n",
    "    # update state\n",
    "    state['answer']=answer\n",
    "\n",
    "    return state"
   ]
  },
  {
   "cell_type": "code",
   "execution_count": 36,
   "id": "59ebaeed",
   "metadata": {},
   "outputs": [],
   "source": [
    "#create graph   \n",
    "\n",
    "graph=StateGraph(LMMState)\n",
    "\n",
    "# add node\n",
    "graph.add_node('llm_qa',llm_qa)\n",
    "\n",
    "# add edges\n",
    "graph.add_edge(START,'llm_qa')\n",
    "graph.add_edge('llm_qa',END)\n",
    "\n",
    "# compile the graph\n",
    "workflow=graph.compile()"
   ]
  },
  {
   "cell_type": "code",
   "execution_count": 39,
   "id": "a234e822",
   "metadata": {},
   "outputs": [
    {
     "name": "stdout",
     "output_type": "stream",
     "text": [
      "Pune is approximately **330 to 350 kilometers** (about 205 to 217 miles) from Dhule, depending on the specific route taken.\n",
      "\n",
      "The travel time by road is typically around **6 to 7 hours**.\n"
     ]
    }
   ],
   "source": [
    "# execute\n",
    "\n",
    "\n",
    "intial_state = {'question': 'How far is Pune from Dhule?'}\n",
    "\n",
    "final_state = workflow.invoke(intial_state)\n",
    "\n",
    "print(final_state['answer'])"
   ]
  },
  {
   "cell_type": "code",
   "execution_count": 40,
   "id": "33a9b7b4",
   "metadata": {},
   "outputs": [
    {
     "data": {
      "text/plain": [
       "'Pune is approximately **320 to 330 kilometers** (about 200 miles) from Dhule by road.\\n\\nThe travel time usually ranges from **6 to 7 hours**, depending on traffic, road conditions, and the number of stops. The most common route is via NH60 (formerly NH3).'"
      ]
     },
     "execution_count": 40,
     "metadata": {},
     "output_type": "execute_result"
    }
   ],
   "source": [
    "model.invoke('How far is Pune from Dhule?').content"
   ]
  },
  {
   "cell_type": "code",
   "execution_count": null,
   "id": "a32acd2d",
   "metadata": {},
   "outputs": [],
   "source": []
  }
 ],
 "metadata": {
  "kernelspec": {
   "display_name": "langgraph-tutorial",
   "language": "python",
   "name": "python3"
  },
  "language_info": {
   "codemirror_mode": {
    "name": "ipython",
    "version": 3
   },
   "file_extension": ".py",
   "mimetype": "text/x-python",
   "name": "python",
   "nbconvert_exporter": "python",
   "pygments_lexer": "ipython3",
   "version": "3.12.11"
  }
 },
 "nbformat": 4,
 "nbformat_minor": 5
}
